{
 "cells": [
  {
   "cell_type": "code",
   "execution_count": 5,
   "id": "9e49b87c",
   "metadata": {},
   "outputs": [],
   "source": [
    "import numpy as np # 04/01/2023"
   ]
  },
  {
   "cell_type": "markdown",
   "id": "510b8160",
   "metadata": {},
   "source": [
    "# why nupy?"
   ]
  },
  {
   "cell_type": "code",
   "execution_count": 3,
   "id": "3f46a621",
   "metadata": {},
   "outputs": [
    {
     "data": {
      "text/plain": [
       "[2, 4, 6, 8, 10]"
      ]
     },
     "execution_count": 3,
     "metadata": {},
     "output_type": "execute_result"
    }
   ],
   "source": [
    "a= [1,2,3,4,5]\n",
    "[i*2 for i in a]"
   ]
  },
  {
   "cell_type": "markdown",
   "id": "c4837432",
   "metadata": {},
   "source": [
    "##### we can say element wise operation"
   ]
  },
  {
   "cell_type": "code",
   "execution_count": 4,
   "id": "5191e165",
   "metadata": {},
   "outputs": [
    {
     "name": "stdout",
     "output_type": "stream",
     "text": [
      "[1 2 3 4 5]\n"
     ]
    }
   ],
   "source": [
    "a_np = np.array([1,2,3,4,5])\n",
    "print(a_np)"
   ]
  },
  {
   "cell_type": "code",
   "execution_count": 5,
   "id": "dd2751e3",
   "metadata": {},
   "outputs": [
    {
     "data": {
      "text/plain": [
       "array([ 2,  4,  6,  8, 10])"
      ]
     },
     "execution_count": 5,
     "metadata": {},
     "output_type": "execute_result"
    }
   ],
   "source": [
    "a_np*2"
   ]
  },
  {
   "cell_type": "code",
   "execution_count": 6,
   "id": "e6781fcb",
   "metadata": {},
   "outputs": [],
   "source": [
    "l = range(100000)"
   ]
  },
  {
   "cell_type": "code",
   "execution_count": 9,
   "id": "174b22e1",
   "metadata": {},
   "outputs": [
    {
     "name": "stdout",
     "output_type": "stream",
     "text": [
      "11.8 ms ± 104 µs per loop (mean ± std. dev. of 7 runs, 100 loops each)\n"
     ]
    }
   ],
   "source": [
    "%timeit [i*2 for i in l] #it is magic method;"
   ]
  },
  {
   "cell_type": "code",
   "execution_count": 6,
   "id": "9043a4cd",
   "metadata": {},
   "outputs": [
    {
     "name": "stdout",
     "output_type": "stream",
     "text": [
      "46.5 µs ± 1.44 µs per loop (mean ± std. dev. of 7 runs, 10000 loops each)\n"
     ]
    }
   ],
   "source": [
    "l_np = np.array(range(100000))\n",
    "%timeit l_np * 2"
   ]
  },
  {
   "cell_type": "code",
   "execution_count": 7,
   "id": "f86e7bed",
   "metadata": {},
   "outputs": [
    {
     "data": {
      "text/plain": [
       "array([1, 2, 3])"
      ]
     },
     "execution_count": 7,
     "metadata": {},
     "output_type": "execute_result"
    }
   ],
   "source": [
    "np.array([1,2,3])"
   ]
  },
  {
   "cell_type": "code",
   "execution_count": 8,
   "id": "2abeb4b5",
   "metadata": {},
   "outputs": [
    {
     "data": {
      "text/plain": [
       "array([1, 2, 3, 4, 5])"
      ]
     },
     "execution_count": 8,
     "metadata": {},
     "output_type": "execute_result"
    }
   ],
   "source": [
    "np.arange(1,6)"
   ]
  },
  {
   "cell_type": "code",
   "execution_count": 9,
   "id": "9a75300a",
   "metadata": {},
   "outputs": [
    {
     "data": {
      "text/plain": [
       "array([ 2,  5,  8, 11, 14, 17])"
      ]
     },
     "execution_count": 9,
     "metadata": {},
     "output_type": "execute_result"
    }
   ],
   "source": [
    "np.arange(2,20,3)"
   ]
  },
  {
   "cell_type": "code",
   "execution_count": 10,
   "id": "8775cf78",
   "metadata": {},
   "outputs": [
    {
     "ename": "TypeError",
     "evalue": "'float' object cannot be interpreted as an integer",
     "output_type": "error",
     "traceback": [
      "\u001b[1;31m---------------------------------------------------------------------------\u001b[0m",
      "\u001b[1;31mTypeError\u001b[0m                                 Traceback (most recent call last)",
      "\u001b[1;32m~\\AppData\\Local\\Temp\\ipykernel_55504\\789216207.py\u001b[0m in \u001b[0;36m<module>\u001b[1;34m\u001b[0m\n\u001b[1;32m----> 1\u001b[1;33m \u001b[0mrange\u001b[0m\u001b[1;33m(\u001b[0m\u001b[1;36m1\u001b[0m\u001b[1;33m,\u001b[0m\u001b[1;36m10\u001b[0m\u001b[1;33m,\u001b[0m\u001b[1;36m2.5\u001b[0m\u001b[1;33m)\u001b[0m\u001b[1;33m\u001b[0m\u001b[1;33m\u001b[0m\u001b[0m\n\u001b[0m",
      "\u001b[1;31mTypeError\u001b[0m: 'float' object cannot be interpreted as an integer"
     ]
    }
   ],
   "source": [
    "range(1,10,2.5)"
   ]
  },
  {
   "cell_type": "code",
   "execution_count": 12,
   "id": "8239be9c",
   "metadata": {},
   "outputs": [
    {
     "data": {
      "text/plain": [
       "array([1. , 3.5, 6. , 8.5])"
      ]
     },
     "execution_count": 12,
     "metadata": {},
     "output_type": "execute_result"
    }
   ],
   "source": [
    "np.arange(1,10,2.5)"
   ]
  },
  {
   "cell_type": "code",
   "execution_count": 13,
   "id": "fec93a61",
   "metadata": {},
   "outputs": [],
   "source": [
    "#np.range()\n",
    "#np.linspace()..very important.....>POST-ready    # how to learn yourself."
   ]
  },
  {
   "cell_type": "code",
   "execution_count": 14,
   "id": "35acf26d",
   "metadata": {},
   "outputs": [
    {
     "data": {
      "text/plain": [
       "numpy.ndarray"
      ]
     },
     "execution_count": 14,
     "metadata": {},
     "output_type": "execute_result"
    }
   ],
   "source": [
    "type(l_np)"
   ]
  },
  {
   "cell_type": "code",
   "execution_count": 15,
   "id": "a0dd07e0",
   "metadata": {},
   "outputs": [],
   "source": [
    "l_np = np.array([1,2,3])"
   ]
  },
  {
   "cell_type": "code",
   "execution_count": 16,
   "id": "9c6d6a2b",
   "metadata": {},
   "outputs": [
    {
     "data": {
      "text/plain": [
       "1"
      ]
     },
     "execution_count": 16,
     "metadata": {},
     "output_type": "execute_result"
    }
   ],
   "source": [
    "l_np.ndim"
   ]
  },
  {
   "cell_type": "code",
   "execution_count": 17,
   "id": "a56843b7",
   "metadata": {},
   "outputs": [
    {
     "data": {
      "text/plain": [
       "(3,)"
      ]
     },
     "execution_count": 17,
     "metadata": {},
     "output_type": "execute_result"
    }
   ],
   "source": [
    "l_np.shape"
   ]
  },
  {
   "cell_type": "code",
   "execution_count": 26,
   "id": "e5af5f72",
   "metadata": {},
   "outputs": [
    {
     "data": {
      "text/plain": [
       "2"
      ]
     },
     "execution_count": 26,
     "metadata": {},
     "output_type": "execute_result"
    }
   ],
   "source": [
    "l_np_2 = np.array([[1,2,3],[4,5,6],[7,8,9]])\n",
    "l_np_2.ndim"
   ]
  },
  {
   "cell_type": "code",
   "execution_count": 25,
   "id": "db2e2932",
   "metadata": {},
   "outputs": [
    {
     "data": {
      "text/plain": [
       "(3, 3)"
      ]
     },
     "execution_count": 25,
     "metadata": {},
     "output_type": "execute_result"
    }
   ],
   "source": [
    "l_np_2.shape"
   ]
  },
  {
   "cell_type": "code",
   "execution_count": 28,
   "id": "2bcebc7a",
   "metadata": {},
   "outputs": [],
   "source": [
    "# Numpy - C code runing in background"
   ]
  },
  {
   "cell_type": "code",
   "execution_count": 29,
   "id": "26811836",
   "metadata": {},
   "outputs": [],
   "source": [
    "x = np.array([-5, 9 , 20 , 25, -3, 5, 16, 10,-8])\n",
    "x[(x >= -5) & (x <= 15)] *= -1 "
   ]
  },
  {
   "cell_type": "markdown",
   "id": "00294313",
   "metadata": {},
   "source": [
    " "
   ]
  }
 ],
 "metadata": {
  "kernelspec": {
   "display_name": "Python 3 (ipykernel)",
   "language": "python",
   "name": "python3"
  },
  "language_info": {
   "codemirror_mode": {
    "name": "ipython",
    "version": 3
   },
   "file_extension": ".py",
   "mimetype": "text/x-python",
   "name": "python",
   "nbconvert_exporter": "python",
   "pygments_lexer": "ipython3",
   "version": "3.9.13"
  }
 },
 "nbformat": 4,
 "nbformat_minor": 5
}
